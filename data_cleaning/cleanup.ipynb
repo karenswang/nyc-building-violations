{
 "cells": [
  {
   "cell_type": "code",
   "execution_count": 8,
   "metadata": {},
   "outputs": [
    {
     "name": "stderr",
     "output_type": "stream",
     "text": [
      "/var/folders/0q/xl_nx_j57hng0y0n98lxq8k40000gn/T/ipykernel_51585/3180863796.py:3: DtypeWarning: Columns (10,12,23) have mixed types. Specify dtype option on import or set low_memory=False.\n",
      "  building_violations = pd.read_csv(\"building_violation_complete.csv\")\n"
     ]
    }
   ],
   "source": [
    "import pandas as pd\n",
    "\n",
    "# clean violations data\n",
    "building_violations = pd.read_csv(\"../data/building_violation_complete.csv\")\n",
    "# building_violations[\"inspectiondate\"] = pd.to_datetime(building_violations[\"inspectiondate\"])\n",
    "# building_violations.head()\n",
    "# building_violations = building_violations[building_violations[\"inspectiondate\"] > \"2019-01-01\"]\n"
   ]
  },
  {
   "cell_type": "code",
   "execution_count": 2,
   "metadata": {},
   "outputs": [
    {
     "data": {
      "text/plain": [
       "Index(['ViolationID', 'BuildingID', 'RegistrationID', 'BoroID', 'Borough',\n",
       "       'HouseNumber', 'LowHouseNumber', 'HighHouseNumber', 'StreetName',\n",
       "       'StreetCode', 'Postcode', 'Apartment', 'Story', 'Block', 'Lot', 'Class',\n",
       "       'InspectionDate', 'ApprovedDate', 'OriginalCertifyByDate',\n",
       "       'OriginalCorrectByDate', 'NewCertifyByDate', 'NewCorrectByDate',\n",
       "       'CertifiedDate', 'OrderNumber', 'NOVID', 'NOVDescription',\n",
       "       'NOVIssuedDate', 'CurrentStatusID', 'CurrentStatus',\n",
       "       'CurrentStatusDate', 'NovType', 'ViolationStatus', 'RentImpairing',\n",
       "       'Latitude', 'Longitude', 'CommunityBoard', 'CouncilDistrict',\n",
       "       'CensusTract', 'BIN', 'BBL', 'NTA'],\n",
       "      dtype='object')"
      ]
     },
     "execution_count": 2,
     "metadata": {},
     "output_type": "execute_result"
    }
   ],
   "source": [
    "building_violations.columns"
   ]
  },
  {
   "cell_type": "code",
   "execution_count": 14,
   "metadata": {},
   "outputs": [
    {
     "data": {
      "text/plain": [
       "numpy.float64"
      ]
     },
     "execution_count": 14,
     "metadata": {},
     "output_type": "execute_result"
    }
   ],
   "source": [
    "type(building_violations[\"CensusTract\"][0])"
   ]
  },
  {
   "cell_type": "code",
   "execution_count": 10,
   "metadata": {},
   "outputs": [
    {
     "data": {
      "text/plain": [
       "0    2013\n",
       "1    2013\n",
       "2    2013\n",
       "3    2015\n",
       "4    2013\n",
       "Name: date_last_four, dtype: int64"
      ]
     },
     "execution_count": 10,
     "metadata": {},
     "output_type": "execute_result"
    }
   ],
   "source": [
    "# building_violations.to_csv(\"../data/building_violation_date.csv\", index=False)\n",
    "# get the last four letters of the date\n",
    "\n",
    "# Assuming 'date' is the column you want to extract from\n",
    "building_violations['date_last_four'] = building_violations['InspectionDate'].str.slice(-4)\n",
    "building_violations['date_last_four'] = building_violations['date_last_four'].astype(int)\n",
    "building_violations['date_last_four'].head()"
   ]
  },
  {
   "cell_type": "code",
   "execution_count": 12,
   "metadata": {},
   "outputs": [],
   "source": [
    "violations = building_violations[building_violations[\"date_last_four\"] > 2017]\n",
    "violations.shape\n",
    "violations.to_csv(\"../data/building_violation_after_2017.csv\", index=False)"
   ]
  },
  {
   "cell_type": "code",
   "execution_count": 16,
   "metadata": {},
   "outputs": [],
   "source": [
    "violations_impairing = violations[violations[\"RentImpairing\"] == \"Y\"]\n",
    "violations_impairing.to_csv(\"../data/building_violation_after_2017_impairing.csv\", index=False)"
   ]
  },
  {
   "cell_type": "code",
   "execution_count": 5,
   "metadata": {},
   "outputs": [
    {
     "name": "stderr",
     "output_type": "stream",
     "text": [
      "/var/folders/0q/xl_nx_j57hng0y0n98lxq8k40000gn/T/ipykernel_75869/4182757692.py:6: DtypeWarning: Columns (0,28,30) have mixed types. Specify dtype option on import or set low_memory=False.\n",
      "  sales = pd.read_csv(\"../data/building_sales_raw.csv\")\n"
     ]
    }
   ],
   "source": [
    "# clean sales data\n",
    "\n",
    "import pandas as pd\n",
    "pd.set_option('display.float_format', '{:.2f}'.format)\n",
    "\n",
    "sales = pd.read_csv(\"../data/building_sales_raw.csv\")\n",
    "sales = sales.groupby('Census Tract 2020')['SALE PRICE'].mean()\n",
    "sales.to_csv(\"../data/building_sales.csv\")\n"
   ]
  },
  {
   "cell_type": "code",
   "execution_count": null,
   "metadata": {},
   "outputs": [],
   "source": []
  }
 ],
 "metadata": {
  "kernelspec": {
   "display_name": "nyc-building-violations",
   "language": "python",
   "name": "python3"
  },
  "language_info": {
   "codemirror_mode": {
    "name": "ipython",
    "version": 3
   },
   "file_extension": ".py",
   "mimetype": "text/x-python",
   "name": "python",
   "nbconvert_exporter": "python",
   "pygments_lexer": "ipython3",
   "version": "3.12.0"
  }
 },
 "nbformat": 4,
 "nbformat_minor": 2
}
